{
 "cells": [
  {
   "cell_type": "code",
   "execution_count": 3,
   "metadata": {},
   "outputs": [],
   "source": [
    "#━━━━━━━━━❮Bibliotecas❯━━━━━━━━━\n",
    "import cv2\n",
    "#━━━━━━━━━━━━━━❮◆❯━━━━━━━━━━━━━━"
   ]
  },
  {
   "cell_type": "code",
   "execution_count": 4,
   "metadata": {},
   "outputs": [
    {
     "name": "stdout",
     "output_type": "stream",
     "text": [
      "(203, 406, 181, 328)\n"
     ]
    },
    {
     "ename": "AttributeError",
     "evalue": "module 'cv2' has no attribute 'TrackerCSRT_create'",
     "output_type": "error",
     "traceback": [
      "\u001b[1;31m---------------------------------------------------------------------------\u001b[0m",
      "\u001b[1;31mAttributeError\u001b[0m                            Traceback (most recent call last)",
      "Cell \u001b[1;32mIn[4], line 13\u001b[0m\n\u001b[0;32m      9\u001b[0m \u001b[39mprint\u001b[39m(box)\n\u001b[0;32m     11\u001b[0m \u001b[39m#zona de pericia --> (45, 14, 517, 245)\u001b[39;00m\n\u001b[1;32m---> 13\u001b[0m tracker \u001b[39m=\u001b[39m cv2\u001b[39m.\u001b[39;49mTrackerCSRT_create()\n\u001b[0;32m     14\u001b[0m tracker\u001b[39m.\u001b[39minit(baly, box)\n\u001b[0;32m     17\u001b[0m \u001b[39mwhile\u001b[39;00m cap\u001b[39m.\u001b[39misOpened():\n",
      "\u001b[1;31mAttributeError\u001b[0m: module 'cv2' has no attribute 'TrackerCSRT_create'"
     ]
    },
    {
     "ename": "",
     "evalue": "",
     "output_type": "error",
     "traceback": [
      "\u001b[1;31mO Kernel falhou ao executar o código na célula atual ou em uma célula anterior. Examine o código nas células para identificar uma possível causa da falha. Clique <a href=\"https://aka.ms/vscodeJupyterKernelCrash\">aqui</a> para obter mais informações. Consulte o <a href='command:jupyter.viewOutput'>log</a> do Jupyter para obter mais detalhes."
     ]
    }
   ],
   "source": [
    "#━━━━━━━━━❮Upload❯━━━━━━━━━\n",
    "video ='Doom Eternal 2021.12.10 - 17.58.51.02.mp4'\n",
    "cap =cv2.VideoCapture(video)\n",
    "\n",
    "if __name__ =='__main__':\n",
    "    \n",
    "    baly =cv2.imread('Screenshot 2022-08-30 190221.png')\n",
    "    box =cv2.selectROI('select roi', baly, fromCenter=False)\n",
    "    print(box)\n",
    "    \n",
    "    #zona de pericia --> (45, 14, 517, 245)\n",
    "    \n",
    "    tracker = cv2.TrackerCSRT_create()\n",
    "    tracker.init(baly, box)\n",
    "    \n",
    "    \n",
    "    while cap.isOpened():\n",
    "        ret, frame =cap.read()\n",
    "        \n",
    "        if not ret:\n",
    "            break\n",
    "        ok, box =tracker.update(frame)\n",
    "        \n",
    "        if ok:\n",
    "            pt =box[0], box[1]\n",
    "            pt2 =((box[0] +box[2]), box[1] +box[3])\n",
    "            cv2.rectangle(frame, pt, pt2, (255, 0, 0), 2, 1)\n",
    "        \n",
    "        else:\n",
    "            print('Falhou')  \n",
    "        \n",
    "        cv2.imshow('tracking', frame)\n",
    "        \n",
    "        if cv2.waitKey(1) ==27:\n",
    "            break\n",
    "    cv2.destroyAllWindows()"
   ]
  }
 ],
 "metadata": {
  "kernelspec": {
   "display_name": "Python 3",
   "language": "python",
   "name": "python3"
  },
  "language_info": {
   "codemirror_mode": {
    "name": "ipython",
    "version": 3
   },
   "file_extension": ".py",
   "mimetype": "text/x-python",
   "name": "python",
   "nbconvert_exporter": "python",
   "pygments_lexer": "ipython3",
   "version": "3.9.13"
  },
  "orig_nbformat": 4
 },
 "nbformat": 4,
 "nbformat_minor": 2
}
