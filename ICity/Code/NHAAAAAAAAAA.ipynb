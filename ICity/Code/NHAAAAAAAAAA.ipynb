{
 "cells": [
  {
   "cell_type": "code",
   "execution_count": 3,
   "id": "93c20982",
   "metadata": {},
   "outputs": [],
   "source": [
    "#━━━━━━━━━❮Bibliotecas❯━━━━━━━━━\n",
    "import os # sistema operacional\n",
    "import cv2     # visao computacional\n",
    "import math \n",
    "import geocoder\n",
    "import requests\n",
    "%matplotlib inline\n",
    "import pandas as pd\n",
    "from twilio.rest import Client\n",
    "from geopy.geocoders import Nominatim\n",
    "from keras.preprocessing import image   # pre processamento de imagens\n",
    "import numpy as np   \n",
    "from keras.utils import np_utils\n",
    "from matplotlib import pyplot as plt \n",
    "from skimage.transform import resize   # redimensionamento de imagens\n",
    "from keras.applications.vgg16 import preprocess_input\n",
    "from sklearn.model_selection import train_test_split  # treino e teste split\n",
    "from keras.models import Sequential\n",
    "from keras.applications.vgg16 import VGG16 # modelo de rede neural\n",
    "from keras.layers import Dense, InputLayer, Dropout\n",
    "#━━━━━━━━━━━━━━❮◆❯━━━━━━━━━━━━━━"
   ]
  },
  {
   "cell_type": "code",
   "execution_count": 4,
   "id": "c9d50c3c",
   "metadata": {},
   "outputs": [
    {
     "name": "stdout",
     "output_type": "stream",
     "text": [
      "Feito!\n"
     ]
    }
   ],
   "source": [
    "count = 0\n",
    "videoFile = \"Accidents.mp4\"\n",
    "cap = cv2.VideoCapture(videoFile)   # lendo o video pelo caminho\n",
    "frameRate = cap.get(5) #frame rate\n",
    "x=1\n",
    "while(cap.isOpened()):\n",
    "    frameId = cap.get(1) #frame atual\n",
    "    ret, frame = cap.read()\n",
    "    if (ret != True):\n",
    "        break\n",
    "    if (frameId % math.floor(frameRate) == 0):\n",
    "        filename =\"%d.jpg\" % count;count+=1\n",
    "        \n",
    "        cv2.imwrite(filename, frame)\n",
    "cap.release()\n",
    "print (\"Feito!\")"
   ]
  },
  {
   "cell_type": "code",
   "execution_count": 5,
   "id": "ed1ec509",
   "metadata": {},
   "outputs": [
    {
     "data": {
      "text/plain": [
       "<matplotlib.image.AxesImage at 0x23815200910>"
      ]
     },
     "execution_count": 5,
     "metadata": {},
     "output_type": "execute_result"
    },
    {
     "data": {
      "image/png": "[encoded data removed]",
      "text/plain": [
       "<Figure size 640x480 with 1 Axes>"
      ]
     },
     "metadata": {},
     "output_type": "display_data"
    }
   ],
   "source": [
    "img = plt.imread('0.jpg')   # lendo imagem\n",
    "plt.imshow(img)"
   ]
  },
  {
   "cell_type": "code",
   "execution_count": 6,
   "id": "9da41986",
   "metadata": {},
   "outputs": [
    {
     "data": {
      "text/html": [
       "<div>\n",
       "<style scoped>\n",
       "    .dataframe tbody tr th:only-of-type {\n",
       "        vertical-align: middle;\n",
       "    }\n",
       "\n",
       "    .dataframe tbody tr th {\n",
       "        vertical-align: top;\n",
       "    }\n",
       "\n",
       "    .dataframe thead th {\n",
       "        text-align: right;\n",
       "    }\n",
       "</style>\n",
       "<table border=\"1\" class=\"dataframe\">\n",
       "  <thead>\n",
       "    <tr style=\"text-align: right;\">\n",
       "      <th></th>\n",
       "      <th>Image_ID</th>\n",
       "      <th>Class</th>\n",
       "    </tr>\n",
       "  </thead>\n",
       "  <tbody>\n",
       "    <tr>\n",
       "      <th>0</th>\n",
       "      <td>0.jpg</td>\n",
       "      <td>1</td>\n",
       "    </tr>\n",
       "    <tr>\n",
       "      <th>1</th>\n",
       "      <td>1.jpg</td>\n",
       "      <td>1</td>\n",
       "    </tr>\n",
       "    <tr>\n",
       "      <th>2</th>\n",
       "      <td>2.jpg</td>\n",
       "      <td>1</td>\n",
       "    </tr>\n",
       "    <tr>\n",
       "      <th>3</th>\n",
       "      <td>3.jpg</td>\n",
       "      <td>1</td>\n",
       "    </tr>\n",
       "    <tr>\n",
       "      <th>4</th>\n",
       "      <td>4.jpg</td>\n",
       "      <td>1</td>\n",
       "    </tr>\n",
       "  </tbody>\n",
       "</table>\n",
       "</div>"
      ],
      "text/plain": [
       "  Image_ID  Class\n",
       "0    0.jpg      1\n",
       "1    1.jpg      1\n",
       "2    2.jpg      1\n",
       "3    3.jpg      1\n",
       "4    4.jpg      1"
      ]
     },
     "execution_count": 6,
     "metadata": {},
     "output_type": "execute_result"
    }
   ],
   "source": [
    "data = pd.read_csv('mapping.csv')     # leitura do csv\n",
    "data.head()"
   ]
  },
  {
   "cell_type": "code",
   "execution_count": 7,
   "id": "39a7f413",
   "metadata": {},
   "outputs": [],
   "source": [
    "X = [ ]     # array vazio\n",
    "for img_name in data.Image_ID:\n",
    "    img = plt.imread('' + img_name)\n",
    "    X.append(img)  # alocando cada imagem no array X\n",
    "X = np.array(X)    # convertendo lista para array"
   ]
  },
  {
   "cell_type": "code",
   "execution_count": 8,
   "id": "e8119c04",
   "metadata": {},
   "outputs": [],
   "source": [
    "y = data.Class\n",
    "dummy_y = np_utils.to_categorical(y)"
   ]
  },
  {
   "cell_type": "code",
   "execution_count": 9,
   "id": "0f7cf107",
   "metadata": {},
   "outputs": [],
   "source": [
    "image = []\n",
    "for i in range(0,X.shape[0]):\n",
    "    a = resize(X[i], preserve_range=True, output_shape=(224,224)).astype(int)      # remodelando para 224*224*3\n",
    "    image.append(a)\n",
    "X = np.array(image)"
   ]
  },
  {
   "cell_type": "code",
   "execution_count": 10,
   "id": "2555ab63",
   "metadata": {},
   "outputs": [],
   "source": [
    "X = preprocess_input(X,data_format=None)"
   ]
  },
  {
   "cell_type": "code",
   "execution_count": 11,
   "id": "21006e54",
   "metadata": {},
   "outputs": [],
   "source": [
    "X_train, X_valid, y_train, y_valid = train_test_split(X, dummy_y, test_size=0.3, random_state=42)"
   ]
  },
  {
   "cell_type": "code",
   "execution_count": 12,
   "id": "47d94402",
   "metadata": {},
   "outputs": [],
   "source": [
    "base_model = VGG16(weights='imagenet', include_top=False, input_shape=(224, 224, 3)) "
   ]
  },
  {
   "cell_type": "code",
   "execution_count": 13,
   "id": "fb02ec43",
   "metadata": {},
   "outputs": [
    {
     "name": "stdout",
     "output_type": "stream",
     "text": [
      "5/5 [==============================] - 26s 5s/step\n",
      "3/3 [==============================] - 10s 3s/step\n"
     ]
    },
    {
     "data": {
      "text/plain": [
       "((155, 7, 7, 512), (67, 7, 7, 512))"
      ]
     },
     "execution_count": 13,
     "metadata": {},
     "output_type": "execute_result"
    }
   ],
   "source": [
    "X_train = base_model.predict(X_train)\n",
    "X_valid = base_model.predict(X_valid)\n",
    "X_train.shape, X_valid.shape"
   ]
  },
  {
   "cell_type": "code",
   "execution_count": 14,
   "id": "555111d7",
   "metadata": {},
   "outputs": [],
   "source": [
    "X_train = X_train.reshape(155, 7*7*512)      # convertendo para 1-D\n",
    "X_valid = X_valid.reshape(67, 7*7*512)"
   ]
  },
  {
   "cell_type": "code",
   "execution_count": 15,
   "id": "5a5a6732",
   "metadata": {},
   "outputs": [],
   "source": [
    "train = X_train/X_train.max()      # centralizando dados\n",
    "X_valid = X_valid/X_train.max()"
   ]
  },
  {
   "cell_type": "code",
   "execution_count": 16,
   "id": "57001716",
   "metadata": {},
   "outputs": [],
   "source": [
    "model = Sequential()\n",
    "model.add(InputLayer((7*7*512,)))    # input layer\n",
    "model.add(Dense(units=1024, activation='sigmoid')) # hidden layer\n",
    "model.add(Dense(2, activation='softmax'))    # output layer"
   ]
  },
  {
   "cell_type": "code",
   "execution_count": 17,
   "id": "586cff45",
   "metadata": {},
   "outputs": [
    {
     "name": "stdout",
     "output_type": "stream",
     "text": [
      "Model: \"sequential\"\n",
      "_________________________________________________________________\n",
      " Layer (type)                Output Shape              Param #   \n",
      "=================================================================\n",
      " dense (Dense)               (None, 1024)              25691136  \n",
      "                                                                 \n",
      " dense_1 (Dense)             (None, 2)                 2050      \n",
      "                                                                 \n",
      "=================================================================\n",
      "Total params: 25,693,186\n",
      "Trainable params: 25,693,186\n",
      "Non-trainable params: 0\n",
      "_________________________________________________________________\n"
     ]
    }
   ],
   "source": [
    "model.summary()"
   ]
  },
  {
   "cell_type": "code",
   "execution_count": 18,
   "id": "e36420f6",
   "metadata": {},
   "outputs": [],
   "source": [
    "model.compile(loss='categorical_crossentropy', optimizer='adam', metrics=['accuracy'])"
   ]
  },
  {
   "cell_type": "code",
   "execution_count": 19,
   "id": "20e00a1e",
   "metadata": {
    "scrolled": true
   },
   "outputs": [
    {
     "name": "stdout",
     "output_type": "stream",
     "text": [
      "Epoch 1/100\n",
      "5/5 [==============================] - 3s 433ms/step - loss: 0.7691 - accuracy: 0.5677 - val_loss: 0.7078 - val_accuracy: 0.6567\n",
      "Epoch 2/100\n",
      "5/5 [==============================] - 2s 379ms/step - loss: 0.3179 - accuracy: 0.8516 - val_loss: 0.7563 - val_accuracy: 0.7164\n",
      "Epoch 3/100\n",
      "5/5 [==============================] - 2s 354ms/step - loss: 0.1929 - accuracy: 0.9419 - val_loss: 0.7537 - val_accuracy: 0.6716\n",
      "Epoch 4/100\n",
      "5/5 [==============================] - 2s 355ms/step - loss: 0.1141 - accuracy: 0.9742 - val_loss: 0.7468 - val_accuracy: 0.7612\n",
      "Epoch 5/100\n",
      "5/5 [==============================] - 2s 349ms/step - loss: 0.0695 - accuracy: 1.0000 - val_loss: 0.7717 - val_accuracy: 0.7313\n",
      "Epoch 6/100\n",
      "5/5 [==============================] - 2s 370ms/step - loss: 0.0478 - accuracy: 1.0000 - val_loss: 0.7842 - val_accuracy: 0.7463\n",
      "Epoch 7/100\n",
      "5/5 [==============================] - 2s 356ms/step - loss: 0.0362 - accuracy: 1.0000 - val_loss: 0.7903 - val_accuracy: 0.7612\n",
      "Epoch 8/100\n",
      "5/5 [==============================] - 2s 359ms/step - loss: 0.0288 - accuracy: 1.0000 - val_loss: 0.7821 - val_accuracy: 0.7761\n",
      "Epoch 9/100\n",
      "5/5 [==============================] - 2s 352ms/step - loss: 0.0238 - accuracy: 1.0000 - val_loss: 0.7792 - val_accuracy: 0.7761\n",
      "Epoch 10/100\n",
      "5/5 [==============================] - 2s 363ms/step - loss: 0.0202 - accuracy: 1.0000 - val_loss: 0.7759 - val_accuracy: 0.7761\n",
      "Epoch 11/100\n",
      "5/5 [==============================] - 2s 369ms/step - loss: 0.0171 - accuracy: 1.0000 - val_loss: 0.7829 - val_accuracy: 0.7761\n",
      "Epoch 12/100\n",
      "5/5 [==============================] - 2s 401ms/step - loss: 0.0151 - accuracy: 1.0000 - val_loss: 0.7913 - val_accuracy: 0.7761\n",
      "Epoch 13/100\n",
      "5/5 [==============================] - 2s 436ms/step - loss: 0.0134 - accuracy: 1.0000 - val_loss: 0.7987 - val_accuracy: 0.7761\n",
      "Epoch 14/100\n",
      "5/5 [==============================] - 2s 382ms/step - loss: 0.0121 - accuracy: 1.0000 - val_loss: 0.8064 - val_accuracy: 0.7612\n",
      "Epoch 15/100\n",
      "5/5 [==============================] - 2s 389ms/step - loss: 0.0110 - accuracy: 1.0000 - val_loss: 0.8086 - val_accuracy: 0.7761\n",
      "Epoch 16/100\n",
      "5/5 [==============================] - 2s 383ms/step - loss: 0.0099 - accuracy: 1.0000 - val_loss: 0.8086 - val_accuracy: 0.7761\n",
      "Epoch 17/100\n",
      "5/5 [==============================] - 2s 383ms/step - loss: 0.0091 - accuracy: 1.0000 - val_loss: 0.8082 - val_accuracy: 0.7612\n",
      "Epoch 18/100\n",
      "5/5 [==============================] - 2s 370ms/step - loss: 0.0084 - accuracy: 1.0000 - val_loss: 0.8076 - val_accuracy: 0.7612\n",
      "Epoch 19/100\n",
      "5/5 [==============================] - 2s 376ms/step - loss: 0.0080 - accuracy: 1.0000 - val_loss: 0.8087 - val_accuracy: 0.7612\n",
      "Epoch 20/100\n",
      "5/5 [==============================] - 2s 376ms/step - loss: 0.0073 - accuracy: 1.0000 - val_loss: 0.8134 - val_accuracy: 0.7761\n",
      "Epoch 21/100\n",
      "5/5 [==============================] - 2s 382ms/step - loss: 0.0069 - accuracy: 1.0000 - val_loss: 0.8175 - val_accuracy: 0.7761\n",
      "Epoch 22/100\n",
      "5/5 [==============================] - 2s 359ms/step - loss: 0.0064 - accuracy: 1.0000 - val_loss: 0.8201 - val_accuracy: 0.7761\n",
      "Epoch 23/100\n",
      "5/5 [==============================] - 2s 366ms/step - loss: 0.0061 - accuracy: 1.0000 - val_loss: 0.8211 - val_accuracy: 0.7761\n",
      "Epoch 24/100\n",
      "5/5 [==============================] - 2s 403ms/step - loss: 0.0057 - accuracy: 1.0000 - val_loss: 0.8240 - val_accuracy: 0.7761\n",
      "Epoch 25/100\n",
      "5/5 [==============================] - 2s 378ms/step - loss: 0.0053 - accuracy: 1.0000 - val_loss: 0.8265 - val_accuracy: 0.7761\n",
      "Epoch 26/100\n",
      "5/5 [==============================] - 2s 390ms/step - loss: 0.0050 - accuracy: 1.0000 - val_loss: 0.8278 - val_accuracy: 0.7761\n",
      "Epoch 27/100\n",
      "5/5 [==============================] - 2s 370ms/step - loss: 0.0048 - accuracy: 1.0000 - val_loss: 0.8291 - val_accuracy: 0.7761\n",
      "Epoch 28/100\n",
      "5/5 [==============================] - 2s 362ms/step - loss: 0.0045 - accuracy: 1.0000 - val_loss: 0.8335 - val_accuracy: 0.7761\n",
      "Epoch 29/100\n",
      "5/5 [==============================] - 2s 356ms/step - loss: 0.0043 - accuracy: 1.0000 - val_loss: 0.8357 - val_accuracy: 0.7761\n",
      "Epoch 30/100\n",
      "5/5 [==============================] - 2s 359ms/step - loss: 0.0041 - accuracy: 1.0000 - val_loss: 0.8376 - val_accuracy: 0.7761\n",
      "Epoch 31/100\n",
      "5/5 [==============================] - 2s 356ms/step - loss: 0.0039 - accuracy: 1.0000 - val_loss: 0.8396 - val_accuracy: 0.7761\n",
      "Epoch 32/100\n",
      "5/5 [==============================] - 2s 362ms/step - loss: 0.0037 - accuracy: 1.0000 - val_loss: 0.8415 - val_accuracy: 0.7761\n",
      "Epoch 33/100\n",
      "5/5 [==============================] - 2s 362ms/step - loss: 0.0036 - accuracy: 1.0000 - val_loss: 0.8450 - val_accuracy: 0.7761\n",
      "Epoch 34/100\n",
      "5/5 [==============================] - 2s 354ms/step - loss: 0.0034 - accuracy: 1.0000 - val_loss: 0.8471 - val_accuracy: 0.7761\n",
      "Epoch 35/100\n",
      "5/5 [==============================] - 2s 360ms/step - loss: 0.0033 - accuracy: 1.0000 - val_loss: 0.8499 - val_accuracy: 0.7910\n",
      "Epoch 36/100\n",
      "5/5 [==============================] - 2s 379ms/step - loss: 0.0031 - accuracy: 1.0000 - val_loss: 0.8506 - val_accuracy: 0.7910\n",
      "Epoch 37/100\n",
      "5/5 [==============================] - 2s 369ms/step - loss: 0.0030 - accuracy: 1.0000 - val_loss: 0.8517 - val_accuracy: 0.7910\n",
      "Epoch 38/100\n",
      "5/5 [==============================] - 2s 367ms/step - loss: 0.0029 - accuracy: 1.0000 - val_loss: 0.8551 - val_accuracy: 0.7910\n",
      "Epoch 39/100\n",
      "5/5 [==============================] - 2s 396ms/step - loss: 0.0027 - accuracy: 1.0000 - val_loss: 0.8582 - val_accuracy: 0.7910\n",
      "Epoch 40/100\n",
      "5/5 [==============================] - 2s 371ms/step - loss: 0.0026 - accuracy: 1.0000 - val_loss: 0.8615 - val_accuracy: 0.8060\n",
      "Epoch 41/100\n",
      "5/5 [==============================] - 2s 423ms/step - loss: 0.0025 - accuracy: 1.0000 - val_loss: 0.8654 - val_accuracy: 0.7910\n",
      "Epoch 42/100\n",
      "5/5 [==============================] - 2s 394ms/step - loss: 0.0024 - accuracy: 1.0000 - val_loss: 0.8671 - val_accuracy: 0.7910\n",
      "Epoch 43/100\n",
      "5/5 [==============================] - 2s 368ms/step - loss: 0.0024 - accuracy: 1.0000 - val_loss: 0.8680 - val_accuracy: 0.7910\n",
      "Epoch 44/100\n",
      "5/5 [==============================] - 2s 365ms/step - loss: 0.0023 - accuracy: 1.0000 - val_loss: 0.8681 - val_accuracy: 0.8060\n",
      "Epoch 45/100\n",
      "5/5 [==============================] - 2s 370ms/step - loss: 0.0022 - accuracy: 1.0000 - val_loss: 0.8691 - val_accuracy: 0.8060\n",
      "Epoch 46/100\n",
      "5/5 [==============================] - 2s 369ms/step - loss: 0.0021 - accuracy: 1.0000 - val_loss: 0.8732 - val_accuracy: 0.8060\n",
      "Epoch 47/100\n",
      "5/5 [==============================] - 2s 363ms/step - loss: 0.0020 - accuracy: 1.0000 - val_loss: 0.8744 - val_accuracy: 0.8060\n",
      "Epoch 48/100\n",
      "5/5 [==============================] - 2s 359ms/step - loss: 0.0020 - accuracy: 1.0000 - val_loss: 0.8763 - val_accuracy: 0.8060\n",
      "Epoch 49/100\n",
      "5/5 [==============================] - 2s 365ms/step - loss: 0.0019 - accuracy: 1.0000 - val_loss: 0.8788 - val_accuracy: 0.8060\n",
      "Epoch 50/100\n",
      "5/5 [==============================] - 2s 364ms/step - loss: 0.0018 - accuracy: 1.0000 - val_loss: 0.8804 - val_accuracy: 0.8060\n",
      "Epoch 51/100\n",
      "5/5 [==============================] - 2s 390ms/step - loss: 0.0018 - accuracy: 1.0000 - val_loss: 0.8830 - val_accuracy: 0.8060\n",
      "Epoch 52/100\n",
      "5/5 [==============================] - 2s 398ms/step - loss: 0.0017 - accuracy: 1.0000 - val_loss: 0.8837 - val_accuracy: 0.8060\n",
      "Epoch 53/100\n",
      "5/5 [==============================] - 2s 426ms/step - loss: 0.0017 - accuracy: 1.0000 - val_loss: 0.8846 - val_accuracy: 0.8060\n",
      "Epoch 54/100\n",
      "5/5 [==============================] - 2s 400ms/step - loss: 0.0016 - accuracy: 1.0000 - val_loss: 0.8865 - val_accuracy: 0.8060\n",
      "Epoch 55/100\n",
      "5/5 [==============================] - 2s 397ms/step - loss: 0.0016 - accuracy: 1.0000 - val_loss: 0.8895 - val_accuracy: 0.8060\n",
      "Epoch 56/100\n",
      "5/5 [==============================] - 2s 403ms/step - loss: 0.0015 - accuracy: 1.0000 - val_loss: 0.8915 - val_accuracy: 0.8060\n",
      "Epoch 57/100\n",
      "5/5 [==============================] - 2s 386ms/step - loss: 0.0015 - accuracy: 1.0000 - val_loss: 0.8950 - val_accuracy: 0.8060\n",
      "Epoch 58/100\n",
      "5/5 [==============================] - 2s 389ms/step - loss: 0.0015 - accuracy: 1.0000 - val_loss: 0.8968 - val_accuracy: 0.8060\n",
      "Epoch 59/100\n",
      "5/5 [==============================] - 2s 398ms/step - loss: 0.0014 - accuracy: 1.0000 - val_loss: 0.8976 - val_accuracy: 0.8060\n",
      "Epoch 60/100\n",
      "5/5 [==============================] - 2s 426ms/step - loss: 0.0014 - accuracy: 1.0000 - val_loss: 0.8989 - val_accuracy: 0.8060\n",
      "Epoch 61/100\n",
      "5/5 [==============================] - 2s 426ms/step - loss: 0.0013 - accuracy: 1.0000 - val_loss: 0.9004 - val_accuracy: 0.8060\n",
      "Epoch 62/100\n",
      "5/5 [==============================] - 2s 383ms/step - loss: 0.0013 - accuracy: 1.0000 - val_loss: 0.9027 - val_accuracy: 0.8060\n",
      "Epoch 63/100\n",
      "5/5 [==============================] - 2s 372ms/step - loss: 0.0013 - accuracy: 1.0000 - val_loss: 0.9042 - val_accuracy: 0.8209\n",
      "Epoch 64/100\n",
      "5/5 [==============================] - 2s 370ms/step - loss: 0.0012 - accuracy: 1.0000 - val_loss: 0.9053 - val_accuracy: 0.8060\n",
      "Epoch 65/100\n",
      "5/5 [==============================] - 2s 374ms/step - loss: 0.0012 - accuracy: 1.0000 - val_loss: 0.9071 - val_accuracy: 0.8060\n",
      "Epoch 66/100\n",
      "5/5 [==============================] - 2s 373ms/step - loss: 0.0012 - accuracy: 1.0000 - val_loss: 0.9092 - val_accuracy: 0.8060\n",
      "Epoch 67/100\n",
      "5/5 [==============================] - 2s 371ms/step - loss: 0.0011 - accuracy: 1.0000 - val_loss: 0.9101 - val_accuracy: 0.8209\n",
      "Epoch 68/100\n",
      "5/5 [==============================] - 2s 383ms/step - loss: 0.0011 - accuracy: 1.0000 - val_loss: 0.9124 - val_accuracy: 0.8209\n",
      "Epoch 69/100\n",
      "5/5 [==============================] - 2s 399ms/step - loss: 0.0011 - accuracy: 1.0000 - val_loss: 0.9145 - val_accuracy: 0.8060\n",
      "Epoch 70/100\n",
      "5/5 [==============================] - 2s 398ms/step - loss: 0.0011 - accuracy: 1.0000 - val_loss: 0.9162 - val_accuracy: 0.8209\n",
      "Epoch 71/100\n",
      "5/5 [==============================] - 2s 380ms/step - loss: 0.0010 - accuracy: 1.0000 - val_loss: 0.9173 - val_accuracy: 0.8209\n",
      "Epoch 72/100\n",
      "5/5 [==============================] - 2s 387ms/step - loss: 0.0010 - accuracy: 1.0000 - val_loss: 0.9183 - val_accuracy: 0.8209\n",
      "Epoch 73/100\n",
      "5/5 [==============================] - 2s 390ms/step - loss: 9.9859e-04 - accuracy: 1.0000 - val_loss: 0.9195 - val_accuracy: 0.8209\n",
      "Epoch 74/100\n",
      "5/5 [==============================] - 2s 390ms/step - loss: 9.7192e-04 - accuracy: 1.0000 - val_loss: 0.9213 - val_accuracy: 0.8209\n",
      "Epoch 75/100\n",
      "5/5 [==============================] - 2s 373ms/step - loss: 9.5132e-04 - accuracy: 1.0000 - val_loss: 0.9226 - val_accuracy: 0.8209\n",
      "Epoch 76/100\n",
      "5/5 [==============================] - 2s 378ms/step - loss: 9.2922e-04 - accuracy: 1.0000 - val_loss: 0.9245 - val_accuracy: 0.8209\n",
      "Epoch 77/100\n",
      "5/5 [==============================] - 2s 375ms/step - loss: 9.0886e-04 - accuracy: 1.0000 - val_loss: 0.9258 - val_accuracy: 0.8209\n",
      "Epoch 78/100\n",
      "5/5 [==============================] - 2s 376ms/step - loss: 8.8831e-04 - accuracy: 1.0000 - val_loss: 0.9274 - val_accuracy: 0.8209\n",
      "Epoch 79/100\n",
      "5/5 [==============================] - 2s 384ms/step - loss: 8.7241e-04 - accuracy: 1.0000 - val_loss: 0.9292 - val_accuracy: 0.8209\n",
      "Epoch 80/100\n",
      "5/5 [==============================] - 2s 390ms/step - loss: 8.5116e-04 - accuracy: 1.0000 - val_loss: 0.9307 - val_accuracy: 0.8209\n",
      "Epoch 81/100\n",
      "5/5 [==============================] - 2s 396ms/step - loss: 8.3583e-04 - accuracy: 1.0000 - val_loss: 0.9325 - val_accuracy: 0.8209\n",
      "Epoch 82/100\n",
      "5/5 [==============================] - 2s 385ms/step - loss: 8.1691e-04 - accuracy: 1.0000 - val_loss: 0.9336 - val_accuracy: 0.8209\n",
      "Epoch 83/100\n",
      "5/5 [==============================] - 2s 385ms/step - loss: 7.9960e-04 - accuracy: 1.0000 - val_loss: 0.9351 - val_accuracy: 0.8209\n",
      "Epoch 84/100\n",
      "5/5 [==============================] - 2s 389ms/step - loss: 7.8456e-04 - accuracy: 1.0000 - val_loss: 0.9359 - val_accuracy: 0.8209\n",
      "Epoch 85/100\n",
      "5/5 [==============================] - 2s 373ms/step - loss: 7.6773e-04 - accuracy: 1.0000 - val_loss: 0.9373 - val_accuracy: 0.8209\n",
      "Epoch 86/100\n",
      "5/5 [==============================] - 2s 373ms/step - loss: 7.5193e-04 - accuracy: 1.0000 - val_loss: 0.9388 - val_accuracy: 0.8209\n",
      "Epoch 87/100\n",
      "5/5 [==============================] - 2s 380ms/step - loss: 7.4144e-04 - accuracy: 1.0000 - val_loss: 0.9404 - val_accuracy: 0.8209\n",
      "Epoch 88/100\n",
      "5/5 [==============================] - 2s 378ms/step - loss: 7.2395e-04 - accuracy: 1.0000 - val_loss: 0.9414 - val_accuracy: 0.8209\n",
      "Epoch 89/100\n",
      "5/5 [==============================] - 2s 372ms/step - loss: 7.1183e-04 - accuracy: 1.0000 - val_loss: 0.9434 - val_accuracy: 0.8209\n",
      "Epoch 90/100\n",
      "5/5 [==============================] - 2s 376ms/step - loss: 6.9829e-04 - accuracy: 1.0000 - val_loss: 0.9449 - val_accuracy: 0.8209\n",
      "Epoch 91/100\n",
      "5/5 [==============================] - 2s 375ms/step - loss: 6.8362e-04 - accuracy: 1.0000 - val_loss: 0.9462 - val_accuracy: 0.8209\n",
      "Epoch 92/100\n",
      "5/5 [==============================] - 2s 375ms/step - loss: 6.7138e-04 - accuracy: 1.0000 - val_loss: 0.9473 - val_accuracy: 0.8209\n",
      "Epoch 93/100\n",
      "5/5 [==============================] - 2s 384ms/step - loss: 6.5883e-04 - accuracy: 1.0000 - val_loss: 0.9483 - val_accuracy: 0.8209\n",
      "Epoch 94/100\n",
      "5/5 [==============================] - 2s 380ms/step - loss: 6.4717e-04 - accuracy: 1.0000 - val_loss: 0.9495 - val_accuracy: 0.8209\n",
      "Epoch 95/100\n",
      "5/5 [==============================] - 2s 374ms/step - loss: 6.3539e-04 - accuracy: 1.0000 - val_loss: 0.9505 - val_accuracy: 0.8209\n",
      "Epoch 96/100\n",
      "5/5 [==============================] - 2s 373ms/step - loss: 6.2408e-04 - accuracy: 1.0000 - val_loss: 0.9515 - val_accuracy: 0.8209\n",
      "Epoch 97/100\n",
      "5/5 [==============================] - 2s 380ms/step - loss: 6.1367e-04 - accuracy: 1.0000 - val_loss: 0.9529 - val_accuracy: 0.8209\n",
      "Epoch 98/100\n",
      "5/5 [==============================] - 2s 380ms/step - loss: 6.0218e-04 - accuracy: 1.0000 - val_loss: 0.9544 - val_accuracy: 0.8209\n",
      "Epoch 99/100\n",
      "5/5 [==============================] - 2s 373ms/step - loss: 5.9095e-04 - accuracy: 1.0000 - val_loss: 0.9558 - val_accuracy: 0.8209\n",
      "Epoch 100/100\n",
      "5/5 [==============================] - 2s 376ms/step - loss: 5.8140e-04 - accuracy: 1.0000 - val_loss: 0.9574 - val_accuracy: 0.8209\n"
     ]
    },
    {
     "data": {
      "text/plain": [
       "<keras.callbacks.History at 0x238296d8100>"
      ]
     },
     "execution_count": 19,
     "metadata": {},
     "output_type": "execute_result"
    }
   ],
   "source": [
    "model.fit(train, y_train, epochs=100, validation_data=(X_valid, y_valid))"
   ]
  },
  {
   "cell_type": "code",
   "execution_count": 20,
   "id": "494768fe",
   "metadata": {},
   "outputs": [],
   "source": [
    "model.compile(loss='categorical_crossentropy', optimizer='adam', metrics=['accuracy'])"
   ]
  },
  {
   "cell_type": "code",
   "execution_count": 21,
   "id": "b8d52fec",
   "metadata": {},
   "outputs": [
    {
     "name": "stdout",
     "output_type": "stream",
     "text": [
      "Feito!\n"
     ]
    }
   ],
   "source": [
    "count = 0\n",
    "videoFile = \"Accident-1.mp4\"\n",
    "cap = cv2.VideoCapture(videoFile)\n",
    "frameRate = cap.get(5) #frame rate\n",
    "x=1\n",
    "while(cap.isOpened()):\n",
    "    frameId = cap.get(1) #frame atual\n",
    "    ret, frame = cap.read()\n",
    "    if (ret != True):\n",
    "        break\n",
    "    if (frameId % math.floor(frameRate) == 0):\n",
    "        filename =\"test%d.jpg\" % count;count+=1\n",
    "        cv2.imwrite(filename, frame)\n",
    "cap.release()\n",
    "print (\"Feito!\")"
   ]
  },
  {
   "cell_type": "code",
   "execution_count": 22,
   "id": "1cf0f0cd",
   "metadata": {},
   "outputs": [],
   "source": [
    "test = pd.read_csv('test.csv')"
   ]
  },
  {
   "cell_type": "code",
   "execution_count": 23,
   "id": "9047ac11",
   "metadata": {},
   "outputs": [],
   "source": [
    "test_image = []\n",
    "for img_name in test.Image_ID:\n",
    "    img = plt.imread('' + img_name)\n",
    "    test_image.append(img)\n",
    "test_img = np.array(test_image)"
   ]
  },
  {
   "cell_type": "code",
   "execution_count": 24,
   "id": "f32558f2",
   "metadata": {},
   "outputs": [],
   "source": [
    "test_image = []\n",
    "for i in range(0,test_img.shape[0]):\n",
    "    a = resize(test_img[i], preserve_range=True, output_shape=(224,224)).astype(int)\n",
    "    test_image.append(a)\n",
    "test_image = np.array(test_image)"
   ]
  },
  {
   "cell_type": "code",
   "execution_count": 25,
   "id": "ff1260b5",
   "metadata": {},
   "outputs": [
    {
     "name": "stdout",
     "output_type": "stream",
     "text": [
      "1/1 [==============================] - 1s 1s/step\n"
     ]
    },
    {
     "data": {
      "text/plain": [
       "(9, 7, 7, 512)"
      ]
     },
     "execution_count": 25,
     "metadata": {},
     "output_type": "execute_result"
    }
   ],
   "source": [
    "# pre processamento de imagem\n",
    "test_image = preprocess_input(test_image, data_format=None)\n",
    "\n",
    "# extraindo features de imagem usando modelo pre treinado\n",
    "test_image = base_model.predict(test_image)\n",
    "test_image.shape"
   ]
  },
  {
   "cell_type": "code",
   "execution_count": 26,
   "id": "b9f69282",
   "metadata": {},
   "outputs": [],
   "source": [
    "test_image = test_image.reshape(9, 7*7*512)\n",
    "\n",
    "# imagens não centralizadas\n",
    "test_image = test_image/test_image.max()"
   ]
  },
  {
   "cell_type": "code",
   "execution_count": 27,
   "id": "721c02ae",
   "metadata": {},
   "outputs": [
    {
     "name": "stdout",
     "output_type": "stream",
     "text": [
      "1/1 [==============================] - 0s 76ms/step\n"
     ]
    }
   ],
   "source": [
    "predictions = model.predict(test_image)"
   ]
  },
  {
   "cell_type": "code",
   "execution_count": 28,
   "id": "fb5b165b",
   "metadata": {},
   "outputs": [
    {
     "name": "stdout",
     "output_type": "stream",
     "text": [
      "[[1.8073620e-06 9.9999821e-01]\n",
      " [1.0274997e-04 9.9989724e-01]\n",
      " [1.0689594e-03 9.9893099e-01]\n",
      " [5.6450575e-04 9.9943548e-01]\n",
      " [1.3695421e-03 9.9863052e-01]\n",
      " [3.7369764e-01 6.2630236e-01]\n",
      " [6.7421341e-01 3.2578659e-01]\n",
      " [4.9420998e-01 5.0579000e-01]\n",
      " [7.7524590e-01 2.2475408e-01]]\n"
     ]
    }
   ],
   "source": [
    "print(predictions)"
   ]
  },
  {
   "cell_type": "code",
   "execution_count": 29,
   "id": "1f040ef0",
   "metadata": {
    "scrolled": true
   },
   "outputs": [
    {
     "name": "stdout",
     "output_type": "stream",
     "text": [
      "Sem acidente\n",
      "Sem acidente\n",
      "Sem acidente\n",
      "Sem acidente\n",
      "Sem acidente\n",
      "Sem acidente\n",
      "Acidente detectado\n",
      "Sem acidente\n",
      "Acidente detectado\n"
     ]
    }
   ],
   "source": [
    "for i in range (0,9):\n",
    "    if predictions[i][0]<predictions[i][1]:\n",
    "        print(\"Sem acidente\")\n",
    "    else:\n",
    "        print(\"Acidente detectado\")\n",
    "    "
   ]
  },
  {
   "cell_type": "code",
   "execution_count": 30,
   "id": "e66b91f0",
   "metadata": {},
   "outputs": [],
   "source": [
    "geoLoc = Nominatim(user_agent=\"GetLoc\")\n",
    "g = geocoder.ip('me')\n",
    "locname = geoLoc.reverse(g.latlng)\n",
    "account_sid = 'ACa583032405cbf44ef280fccae8db749e'\n",
    "auth_token = '63c142d6137d1a67e46e93e2ecfc29a6'\n",
    "client = Client(account_sid, auth_token)"
   ]
  },
  {
   "cell_type": "code",
   "execution_count": 31,
   "id": "80b3e4f1",
   "metadata": {},
   "outputs": [
    {
     "ename": "TwilioRestException",
     "evalue": "HTTP 401 error: Unable to create record: Authenticate",
     "output_type": "error",
     "traceback": [
      "\u001b[1;31m---------------------------------------------------------------------------\u001b[0m",
      "\u001b[1;31mTwilioRestException\u001b[0m                       Traceback (most recent call last)",
      "Cell \u001b[1;32mIn[31], line 27\u001b[0m\n\u001b[0;32m     25\u001b[0m         \u001b[39mbreak\u001b[39;00m\n\u001b[0;32m     26\u001b[0m \u001b[39mif\u001b[39;00m flag\u001b[39m==\u001b[39m\u001b[39m1\u001b[39m:\n\u001b[1;32m---> 27\u001b[0m     client\u001b[39m.\u001b[39;49mmessages\u001b[39m.\u001b[39;49mcreate(\n\u001b[0;32m     28\u001b[0m         body\u001b[39m=\u001b[39;49m\u001b[39m\"\u001b[39;49m\u001b[39mAcidente detectado em \u001b[39;49m\u001b[39m\"\u001b[39;49m\u001b[39m+\u001b[39;49mlocname\u001b[39m.\u001b[39;49maddress,\n\u001b[0;32m     29\u001b[0m         from_\u001b[39m=\u001b[39;49m \u001b[39m+\u001b[39;49m\u001b[39m16812025635\u001b[39;49m,\n\u001b[0;32m     30\u001b[0m         to\u001b[39m=\u001b[39;49m \u001b[39m+\u001b[39;49m\u001b[39m5511950602005\u001b[39;49m)\n\u001b[0;32m     32\u001b[0m \u001b[39m# release the cap object\u001b[39;00m\n\u001b[0;32m     33\u001b[0m cap\u001b[39m.\u001b[39mrelease()\n",
      "File \u001b[1;32mc:\\Users\\pytho\\AppData\\Local\\Programs\\Python\\Python39\\lib\\site-packages\\twilio\\rest\\api\\v2010\\account\\message\\__init__.py:551\u001b[0m, in \u001b[0;36mMessageList.create\u001b[1;34m(self, to, status_callback, application_sid, max_price, provide_feedback, attempt, validity_period, force_delivery, content_retention, address_retention, smart_encoded, persistent_action, shorten_urls, schedule_type, send_at, send_as_mms, content_sid, content_variables, from_, messaging_service_sid, body, media_url)\u001b[0m\n\u001b[0;32m    496\u001b[0m \u001b[39m\u001b[39m\u001b[39m\"\"\"\u001b[39;00m\n\u001b[0;32m    497\u001b[0m \u001b[39mCreate the MessageInstance\u001b[39;00m\n\u001b[0;32m    498\u001b[0m \n\u001b[1;32m   (...)\u001b[0m\n\u001b[0;32m    522\u001b[0m \u001b[39m:returns: The created MessageInstance\u001b[39;00m\n\u001b[0;32m    523\u001b[0m \u001b[39m\"\"\"\u001b[39;00m\n\u001b[0;32m    524\u001b[0m data \u001b[39m=\u001b[39m values\u001b[39m.\u001b[39mof(\n\u001b[0;32m    525\u001b[0m     {\n\u001b[0;32m    526\u001b[0m         \u001b[39m\"\u001b[39m\u001b[39mTo\u001b[39m\u001b[39m\"\u001b[39m: to,\n\u001b[1;32m   (...)\u001b[0m\n\u001b[0;32m    548\u001b[0m     }\n\u001b[0;32m    549\u001b[0m )\n\u001b[1;32m--> 551\u001b[0m payload \u001b[39m=\u001b[39m \u001b[39mself\u001b[39;49m\u001b[39m.\u001b[39;49m_version\u001b[39m.\u001b[39;49mcreate(\n\u001b[0;32m    552\u001b[0m     method\u001b[39m=\u001b[39;49m\u001b[39m\"\u001b[39;49m\u001b[39mPOST\u001b[39;49m\u001b[39m\"\u001b[39;49m,\n\u001b[0;32m    553\u001b[0m     uri\u001b[39m=\u001b[39;49m\u001b[39mself\u001b[39;49m\u001b[39m.\u001b[39;49m_uri,\n\u001b[0;32m    554\u001b[0m     data\u001b[39m=\u001b[39;49mdata,\n\u001b[0;32m    555\u001b[0m )\n\u001b[0;32m    557\u001b[0m \u001b[39mreturn\u001b[39;00m MessageInstance(\n\u001b[0;32m    558\u001b[0m     \u001b[39mself\u001b[39m\u001b[39m.\u001b[39m_version, payload, account_sid\u001b[39m=\u001b[39m\u001b[39mself\u001b[39m\u001b[39m.\u001b[39m_solution[\u001b[39m\"\u001b[39m\u001b[39maccount_sid\u001b[39m\u001b[39m\"\u001b[39m]\n\u001b[0;32m    559\u001b[0m )\n",
      "File \u001b[1;32mc:\\Users\\pytho\\AppData\\Local\\Programs\\Python\\Python39\\lib\\site-packages\\twilio\\base\\version.py:465\u001b[0m, in \u001b[0;36mVersion.create\u001b[1;34m(self, method, uri, params, data, headers, auth, timeout, allow_redirects)\u001b[0m\n\u001b[0;32m    451\u001b[0m \u001b[39m\u001b[39m\u001b[39m\"\"\"\u001b[39;00m\n\u001b[0;32m    452\u001b[0m \u001b[39mCreate a resource instance.\u001b[39;00m\n\u001b[0;32m    453\u001b[0m \u001b[39m\"\"\"\u001b[39;00m\n\u001b[0;32m    454\u001b[0m response \u001b[39m=\u001b[39m \u001b[39mself\u001b[39m\u001b[39m.\u001b[39mrequest(\n\u001b[0;32m    455\u001b[0m     method,\n\u001b[0;32m    456\u001b[0m     uri,\n\u001b[1;32m   (...)\u001b[0m\n\u001b[0;32m    462\u001b[0m     allow_redirects\u001b[39m=\u001b[39mallow_redirects,\n\u001b[0;32m    463\u001b[0m )\n\u001b[1;32m--> 465\u001b[0m \u001b[39mreturn\u001b[39;00m \u001b[39mself\u001b[39;49m\u001b[39m.\u001b[39;49m_parse_create(method, uri, response)\n",
      "File \u001b[1;32mc:\\Users\\pytho\\AppData\\Local\\Programs\\Python\\Python39\\lib\\site-packages\\twilio\\base\\version.py:436\u001b[0m, in \u001b[0;36mVersion._parse_create\u001b[1;34m(self, method, uri, response)\u001b[0m\n\u001b[0;32m    432\u001b[0m \u001b[39m\u001b[39m\u001b[39m\"\"\"\u001b[39;00m\n\u001b[0;32m    433\u001b[0m \u001b[39mParse create response JSON\u001b[39;00m\n\u001b[0;32m    434\u001b[0m \u001b[39m\"\"\"\u001b[39;00m\n\u001b[0;32m    435\u001b[0m \u001b[39mif\u001b[39;00m response\u001b[39m.\u001b[39mstatus_code \u001b[39m<\u001b[39m \u001b[39m200\u001b[39m \u001b[39mor\u001b[39;00m response\u001b[39m.\u001b[39mstatus_code \u001b[39m>\u001b[39m\u001b[39m=\u001b[39m \u001b[39m300\u001b[39m:\n\u001b[1;32m--> 436\u001b[0m     \u001b[39mraise\u001b[39;00m \u001b[39mself\u001b[39m\u001b[39m.\u001b[39mexception(method, uri, response, \u001b[39m\"\u001b[39m\u001b[39mUnable to create record\u001b[39m\u001b[39m\"\u001b[39m)\n\u001b[0;32m    438\u001b[0m \u001b[39mreturn\u001b[39;00m json\u001b[39m.\u001b[39mloads(response\u001b[39m.\u001b[39mtext)\n",
      "\u001b[1;31mTwilioRestException\u001b[0m: HTTP 401 error: Unable to create record: Authenticate"
     ]
    },
    {
     "ename": "",
     "evalue": "",
     "output_type": "error",
     "traceback": [
      "\u001b[1;31mO Kernel falhou ao executar o código na célula atual ou em uma célula anterior. Examine o código nas células para identificar uma possível causa da falha. Clique <a href=\"https://aka.ms/vscodeJupyterKernelCrash\">aqui</a> para obter mais informações. Consulte o <a href='command:jupyter.viewOutput'>log</a> do Jupyter para obter mais detalhes."
     ]
    }
   ],
   "source": [
    "cap = cv2.VideoCapture('Accident-1.mp4')\n",
    "i=0\n",
    "flag=0\n",
    "while(True):\n",
    "    ret,frame=cap.read()\n",
    "    if ret==True:\n",
    "        if predictions[int(i/15)%9][0]<predictions[int(i/15)%9][1]:\n",
    "            predict=\"Sem acidente\"\n",
    "        else:\n",
    "            predict=\"Acidente\"\n",
    "            flag=1\n",
    "        font = cv2.FONT_HERSHEY_SIMPLEX\n",
    "        cv2.putText(frame,\n",
    "                predict,\n",
    "                (50, 50),\n",
    "                font, 1,\n",
    "                (0, 255, 255),\n",
    "                3,\n",
    "                cv2.LINE_4)\n",
    "        cv2.imshow('Frame', frame)\n",
    "        i=i+1\n",
    "        if cv2.waitKey(1) & 0xFF == ord('q'):\n",
    "            break\n",
    "    else:\n",
    "        break\n",
    "if flag==1:\n",
    "    client.messages.create(\n",
    "        body=\"Acidente detectado em \"+locname.address,\n",
    "        from_= +16812025635,\n",
    "        to= +5511950602005)\n",
    "\n",
    "# release the cap object\n",
    "cap.release()\n",
    "# close all windows\n",
    "cv2.destroyAllWindows()\n"
   ]
  }
 ],
 "metadata": {
  "kernelspec": {
   "display_name": "Python 3 (ipykernel)",
   "language": "python",
   "name": "python3"
  },
  "language_info": {
   "codemirror_mode": {
    "name": "ipython",
    "version": 3
   },
   "file_extension": ".py",
   "mimetype": "text/x-python",
   "name": "python",
   "nbconvert_exporter": "python",
   "pygments_lexer": "ipython3",
   "version": "3.9.13"
  }
 },
 "nbformat": 4,
 "nbformat_minor": 5
}
